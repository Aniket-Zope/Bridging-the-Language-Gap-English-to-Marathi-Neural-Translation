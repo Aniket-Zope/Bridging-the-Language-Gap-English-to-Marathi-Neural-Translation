{
  "cells": [
    {
      "cell_type": "markdown",
      "metadata": {
        "id": "df47eCT8961F"
      },
      "source": [
        "# Training Encoder Decoder Model"
      ]
    },
    {
      "cell_type": "code",
      "execution_count": 1,
      "metadata": {
        "id": "c0b45f7c-c38d-466f-a5f4-375f09af651d"
      },
      "outputs": [],
      "source": [
        "import pandas as pd\n",
        "import numpy as np\n",
        "from sklearn.model_selection import train_test_split\n",
        "import os"
      ]
    },
    {
      "cell_type": "code",
      "execution_count": 2,
      "metadata": {
        "id": "e8c5a33e-fc53-4cca-aeef-0028b69d2ad2"
      },
      "outputs": [],
      "source": [
        "df= pd.read_csv(\"/content/cleaned.csv\")"
      ]
    },
    {
      "cell_type": "code",
      "execution_count": 3,
      "metadata": {
        "colab": {
          "base_uri": "https://localhost:8080/",
          "height": 293
        },
        "id": "40397cd7-d8ec-41f1-837f-a3bdeeae704a",
        "outputId": "c925387f-0b5a-4ae6-86ac-569a87b6f06d"
      },
      "outputs": [
        {
          "output_type": "execute_result",
          "data": {
            "text/plain": [
              "                                                 English  \\\n",
              "46990  just saying you do not like fish because of th...   \n",
              "46991  tom tried to sell his old vcr instead of throw...   \n",
              "46992  january february march april may june july aug...   \n",
              "46993  you cannot view flash content on an ipad howev...   \n",
              "46994  in  roger miller recorded a song called you do...   \n",
              "\n",
              "                                                 Marathi  en_word_count  \\\n",
              "46990  हड्डींमुळे मासे आवडत नाही असं म्हणणं हे काय मा...             21   \n",
              "46991  टॉमने त्याचा जुना व्हीसीआर फेकून टाकण्याऐवजी व...             25   \n",
              "46992  जानेवारी फेब्रुवारी मार्च एप्रिल मे जून जुलै ऑ...             20   \n",
              "46993  आयपॅडवर फ्लॅश आशय बघता येत नाही पण तुम्ही त्या...             32   \n",
              "46994  मध्ये रॉजर मिलरने यू डोन्ट वॉन्ट माय लव्ह नावा...             36   \n",
              "\n",
              "       mar_word_count  mar_char_count  en_char_count  \n",
              "46990              13              68             81  \n",
              "46991              23             129             89  \n",
              "46992              18              97            104  \n",
              "46993              24             118            140  \n",
              "46994              35             149            140  "
            ],
            "text/html": [
              "\n",
              "  <div id=\"df-70bdbfe2-19ff-4ba9-9a96-6739283c4c85\" class=\"colab-df-container\">\n",
              "    <div>\n",
              "<style scoped>\n",
              "    .dataframe tbody tr th:only-of-type {\n",
              "        vertical-align: middle;\n",
              "    }\n",
              "\n",
              "    .dataframe tbody tr th {\n",
              "        vertical-align: top;\n",
              "    }\n",
              "\n",
              "    .dataframe thead th {\n",
              "        text-align: right;\n",
              "    }\n",
              "</style>\n",
              "<table border=\"1\" class=\"dataframe\">\n",
              "  <thead>\n",
              "    <tr style=\"text-align: right;\">\n",
              "      <th></th>\n",
              "      <th>English</th>\n",
              "      <th>Marathi</th>\n",
              "      <th>en_word_count</th>\n",
              "      <th>mar_word_count</th>\n",
              "      <th>mar_char_count</th>\n",
              "      <th>en_char_count</th>\n",
              "    </tr>\n",
              "  </thead>\n",
              "  <tbody>\n",
              "    <tr>\n",
              "      <th>46990</th>\n",
              "      <td>just saying you do not like fish because of th...</td>\n",
              "      <td>हड्डींमुळे मासे आवडत नाही असं म्हणणं हे काय मा...</td>\n",
              "      <td>21</td>\n",
              "      <td>13</td>\n",
              "      <td>68</td>\n",
              "      <td>81</td>\n",
              "    </tr>\n",
              "    <tr>\n",
              "      <th>46991</th>\n",
              "      <td>tom tried to sell his old vcr instead of throw...</td>\n",
              "      <td>टॉमने त्याचा जुना व्हीसीआर फेकून टाकण्याऐवजी व...</td>\n",
              "      <td>25</td>\n",
              "      <td>23</td>\n",
              "      <td>129</td>\n",
              "      <td>89</td>\n",
              "    </tr>\n",
              "    <tr>\n",
              "      <th>46992</th>\n",
              "      <td>january february march april may june july aug...</td>\n",
              "      <td>जानेवारी फेब्रुवारी मार्च एप्रिल मे जून जुलै ऑ...</td>\n",
              "      <td>20</td>\n",
              "      <td>18</td>\n",
              "      <td>97</td>\n",
              "      <td>104</td>\n",
              "    </tr>\n",
              "    <tr>\n",
              "      <th>46993</th>\n",
              "      <td>you cannot view flash content on an ipad howev...</td>\n",
              "      <td>आयपॅडवर फ्लॅश आशय बघता येत नाही पण तुम्ही त्या...</td>\n",
              "      <td>32</td>\n",
              "      <td>24</td>\n",
              "      <td>118</td>\n",
              "      <td>140</td>\n",
              "    </tr>\n",
              "    <tr>\n",
              "      <th>46994</th>\n",
              "      <td>in  roger miller recorded a song called you do...</td>\n",
              "      <td>मध्ये रॉजर मिलरने यू डोन्ट वॉन्ट माय लव्ह नावा...</td>\n",
              "      <td>36</td>\n",
              "      <td>35</td>\n",
              "      <td>149</td>\n",
              "      <td>140</td>\n",
              "    </tr>\n",
              "  </tbody>\n",
              "</table>\n",
              "</div>\n",
              "    <div class=\"colab-df-buttons\">\n",
              "\n",
              "  <div class=\"colab-df-container\">\n",
              "    <button class=\"colab-df-convert\" onclick=\"convertToInteractive('df-70bdbfe2-19ff-4ba9-9a96-6739283c4c85')\"\n",
              "            title=\"Convert this dataframe to an interactive table.\"\n",
              "            style=\"display:none;\">\n",
              "\n",
              "  <svg xmlns=\"http://www.w3.org/2000/svg\" height=\"24px\" viewBox=\"0 -960 960 960\">\n",
              "    <path d=\"M120-120v-720h720v720H120Zm60-500h600v-160H180v160Zm220 220h160v-160H400v160Zm0 220h160v-160H400v160ZM180-400h160v-160H180v160Zm440 0h160v-160H620v160ZM180-180h160v-160H180v160Zm440 0h160v-160H620v160Z\"/>\n",
              "  </svg>\n",
              "    </button>\n",
              "\n",
              "  <style>\n",
              "    .colab-df-container {\n",
              "      display:flex;\n",
              "      gap: 12px;\n",
              "    }\n",
              "\n",
              "    .colab-df-convert {\n",
              "      background-color: #E8F0FE;\n",
              "      border: none;\n",
              "      border-radius: 50%;\n",
              "      cursor: pointer;\n",
              "      display: none;\n",
              "      fill: #1967D2;\n",
              "      height: 32px;\n",
              "      padding: 0 0 0 0;\n",
              "      width: 32px;\n",
              "    }\n",
              "\n",
              "    .colab-df-convert:hover {\n",
              "      background-color: #E2EBFA;\n",
              "      box-shadow: 0px 1px 2px rgba(60, 64, 67, 0.3), 0px 1px 3px 1px rgba(60, 64, 67, 0.15);\n",
              "      fill: #174EA6;\n",
              "    }\n",
              "\n",
              "    .colab-df-buttons div {\n",
              "      margin-bottom: 4px;\n",
              "    }\n",
              "\n",
              "    [theme=dark] .colab-df-convert {\n",
              "      background-color: #3B4455;\n",
              "      fill: #D2E3FC;\n",
              "    }\n",
              "\n",
              "    [theme=dark] .colab-df-convert:hover {\n",
              "      background-color: #434B5C;\n",
              "      box-shadow: 0px 1px 3px 1px rgba(0, 0, 0, 0.15);\n",
              "      filter: drop-shadow(0px 1px 2px rgba(0, 0, 0, 0.3));\n",
              "      fill: #FFFFFF;\n",
              "    }\n",
              "  </style>\n",
              "\n",
              "    <script>\n",
              "      const buttonEl =\n",
              "        document.querySelector('#df-70bdbfe2-19ff-4ba9-9a96-6739283c4c85 button.colab-df-convert');\n",
              "      buttonEl.style.display =\n",
              "        google.colab.kernel.accessAllowed ? 'block' : 'none';\n",
              "\n",
              "      async function convertToInteractive(key) {\n",
              "        const element = document.querySelector('#df-70bdbfe2-19ff-4ba9-9a96-6739283c4c85');\n",
              "        const dataTable =\n",
              "          await google.colab.kernel.invokeFunction('convertToInteractive',\n",
              "                                                    [key], {});\n",
              "        if (!dataTable) return;\n",
              "\n",
              "        const docLinkHtml = 'Like what you see? Visit the ' +\n",
              "          '<a target=\"_blank\" href=https://colab.research.google.com/notebooks/data_table.ipynb>data table notebook</a>'\n",
              "          + ' to learn more about interactive tables.';\n",
              "        element.innerHTML = '';\n",
              "        dataTable['output_type'] = 'display_data';\n",
              "        await google.colab.output.renderOutput(dataTable, element);\n",
              "        const docLink = document.createElement('div');\n",
              "        docLink.innerHTML = docLinkHtml;\n",
              "        element.appendChild(docLink);\n",
              "      }\n",
              "    </script>\n",
              "  </div>\n",
              "\n",
              "\n",
              "<div id=\"df-06660b46-4f18-434e-b814-5c29cb18c82a\">\n",
              "  <button class=\"colab-df-quickchart\" onclick=\"quickchart('df-06660b46-4f18-434e-b814-5c29cb18c82a')\"\n",
              "            title=\"Suggest charts.\"\n",
              "            style=\"display:none;\">\n",
              "\n",
              "<svg xmlns=\"http://www.w3.org/2000/svg\" height=\"24px\"viewBox=\"0 0 24 24\"\n",
              "     width=\"24px\">\n",
              "    <g>\n",
              "        <path d=\"M19 3H5c-1.1 0-2 .9-2 2v14c0 1.1.9 2 2 2h14c1.1 0 2-.9 2-2V5c0-1.1-.9-2-2-2zM9 17H7v-7h2v7zm4 0h-2V7h2v10zm4 0h-2v-4h2v4z\"/>\n",
              "    </g>\n",
              "</svg>\n",
              "  </button>\n",
              "\n",
              "<style>\n",
              "  .colab-df-quickchart {\n",
              "    background-color: #E8F0FE;\n",
              "    border: none;\n",
              "    border-radius: 50%;\n",
              "    cursor: pointer;\n",
              "    display: none;\n",
              "    fill: #1967D2;\n",
              "    height: 32px;\n",
              "    padding: 0 0 0 0;\n",
              "    width: 32px;\n",
              "  }\n",
              "\n",
              "  .colab-df-quickchart:hover {\n",
              "    background-color: #E2EBFA;\n",
              "    box-shadow: 0px 1px 2px rgba(60, 64, 67, 0.3), 0px 1px 3px 1px rgba(60, 64, 67, 0.15);\n",
              "    fill: #174EA6;\n",
              "  }\n",
              "\n",
              "  [theme=dark] .colab-df-quickchart {\n",
              "    background-color: #3B4455;\n",
              "    fill: #D2E3FC;\n",
              "  }\n",
              "\n",
              "  [theme=dark] .colab-df-quickchart:hover {\n",
              "    background-color: #434B5C;\n",
              "    box-shadow: 0px 1px 3px 1px rgba(0, 0, 0, 0.15);\n",
              "    filter: drop-shadow(0px 1px 2px rgba(0, 0, 0, 0.3));\n",
              "    fill: #FFFFFF;\n",
              "  }\n",
              "</style>\n",
              "\n",
              "  <script>\n",
              "    async function quickchart(key) {\n",
              "      const charts = await google.colab.kernel.invokeFunction(\n",
              "          'suggestCharts', [key], {});\n",
              "    }\n",
              "    (() => {\n",
              "      let quickchartButtonEl =\n",
              "        document.querySelector('#df-06660b46-4f18-434e-b814-5c29cb18c82a button');\n",
              "      quickchartButtonEl.style.display =\n",
              "        google.colab.kernel.accessAllowed ? 'block' : 'none';\n",
              "    })();\n",
              "  </script>\n",
              "</div>\n",
              "    </div>\n",
              "  </div>\n"
            ]
          },
          "metadata": {},
          "execution_count": 3
        }
      ],
      "source": [
        "df.tail()"
      ]
    },
    {
      "cell_type": "markdown",
      "metadata": {
        "id": "c6052bba-9f6c-4102-94e1-ed6972eae62d"
      },
      "source": [
        "**Note** this data was cleaned at notebook of EDA_And_Cleaning_Text"
      ]
    },
    {
      "cell_type": "markdown",
      "metadata": {
        "id": "a608cd69-fd28-4b04-bb24-0cdccbf637c0"
      },
      "source": [
        "# Prepare dataset for encoder decoder model\n",
        "## Encoder:-\n",
        "* convert text into numbers\n",
        "* [WordEmbedding](https://machinelearningmastery.com/use-word-embedding-layers-deep-learning-keras/):- Then embedding is very important layer for beause it will convert the input word-`numbers into more dimension of vectors which will have semantic information words means beause of this we can know which words are similar or near to each other.`\n",
        "* We will not take output of timestamps of encoder beause it will be like one to one mapping so we will just take selt states of encoder as context vector.\n",
        "\n",
        "## Decoder:-\n",
        "* First most important thing is we have to add special tokens in each target language at start SOS and EOS at end reason of this is `The length of translated sentence might not be same as other language so it is to tell model where is start and end of sentence.`\n",
        "* When building model we will provide initial state of model as context vector recived from Encoder.\n"
      ]
    },
    {
      "cell_type": "code",
      "source": [],
      "metadata": {
        "id": "IFO-eU0YZ1EU"
      },
      "execution_count": 3,
      "outputs": []
    },
    {
      "cell_type": "markdown",
      "metadata": {
        "id": "f3a4e566-74b2-48ff-8f34-0b5c7d92df37"
      },
      "source": [
        "#### Fisrt add eos and sos tokens\n",
        "* SOS = Start Of String\n",
        "* EOS = End Of String"
      ]
    },
    {
      "cell_type": "code",
      "execution_count": 4,
      "metadata": {
        "id": "15104303-ee91-4eff-bc9c-ed47916f4481"
      },
      "outputs": [],
      "source": [
        "df.Marathi = df.Marathi.apply(lambda x: 'sos '+ x +' eos')"
      ]
    },
    {
      "cell_type": "markdown",
      "metadata": {
        "id": "cfcaeda0-13f7-499f-ace7-788838c8a193"
      },
      "source": [
        "### create vocabulary of english and marathi words"
      ]
    },
    {
      "cell_type": "code",
      "execution_count": 5,
      "metadata": {
        "id": "4b74e168-0c03-4ab3-8147-e4efe7f35b33"
      },
      "outputs": [],
      "source": [
        "eng_vocab= set()\n",
        "for sent in df.English:\n",
        "    for word in sent.split():\n",
        "        if word not in eng_vocab:\n",
        "            eng_vocab.add(word)"
      ]
    },
    {
      "cell_type": "code",
      "execution_count": 6,
      "metadata": {
        "id": "475ba93e-2bd7-4b60-a23d-e72529aed56c"
      },
      "outputs": [],
      "source": [
        "mar_vocab= set()\n",
        "for sent in df.Marathi:\n",
        "    for word in sent.split():\n",
        "        if word not in mar_vocab:\n",
        "            mar_vocab.add(word)"
      ]
    },
    {
      "cell_type": "code",
      "execution_count": 7,
      "metadata": {
        "colab": {
          "base_uri": "https://localhost:8080/"
        },
        "id": "93e0d31a-4974-4c3d-92b0-78655700ecfe",
        "outputId": "09ba4727-fe99-491a-8bff-6dcea65df28b"
      },
      "outputs": [
        {
          "output_type": "execute_result",
          "data": {
            "text/plain": [
              "(5787, 14389)"
            ]
          },
          "metadata": {},
          "execution_count": 7
        }
      ],
      "source": [
        "len(eng_vocab), len(mar_vocab),"
      ]
    },
    {
      "cell_type": "code",
      "execution_count": 8,
      "metadata": {
        "colab": {
          "base_uri": "https://localhost:8080/"
        },
        "id": "b2e7b595-9a5a-41b8-86bd-08918e5dcc56",
        "outputId": "a39ce10f-a6df-48c9-9966-d75b5175a3d0"
      },
      "outputs": [
        {
          "output_type": "stream",
          "name": "stdout",
          "text": [
            "5788\n",
            "14390\n"
          ]
        }
      ],
      "source": [
        "# for zero padding add 1 in them\n",
        "ENG_VOCAB_SIZE= len(eng_vocab)+1\n",
        "MAR_VOCAB_SIZE= len(mar_vocab)+1\n",
        "print(ENG_VOCAB_SIZE)\n",
        "print(MAR_VOCAB_SIZE)\n"
      ]
    },
    {
      "cell_type": "markdown",
      "metadata": {
        "id": "17e310ae-b882-49fd-b1ad-22d57d32b8e4"
      },
      "source": [
        "### Create dictionary for words and their indexes then we can convert text into numbers"
      ]
    },
    {
      "cell_type": "markdown",
      "metadata": {
        "id": "e0c840cd-2c39-4209-815a-eda5185d8392"
      },
      "source": [
        "#### First we need sorted words list"
      ]
    },
    {
      "cell_type": "code",
      "execution_count": 9,
      "metadata": {
        "id": "303bef8d-dfd4-4e0d-a9ea-f2cc513b5fc2"
      },
      "outputs": [],
      "source": [
        "eng_words = sorted(list(eng_vocab))\n",
        "mar_words = sorted(list(mar_vocab))"
      ]
    },
    {
      "cell_type": "markdown",
      "metadata": {
        "id": "f36966f2-c5ac-4879-be50-be3d4b00b61c"
      },
      "source": [
        "#### Word to number"
      ]
    },
    {
      "cell_type": "code",
      "execution_count": 10,
      "metadata": {
        "id": "28320197-95ff-4a08-83eb-66454e0916a5"
      },
      "outputs": [],
      "source": [
        "# create english and marathi dicts\n",
        "eng_word_index = dict((w, i) for i, w in enumerate(eng_words))\n",
        "mar_word_index = dict((w, i) for i, w in enumerate(mar_words))"
      ]
    },
    {
      "cell_type": "code",
      "execution_count": null,
      "metadata": {
        "id": "yJ20wjUwljqn"
      },
      "outputs": [],
      "source": [
        "mar_word_index"
      ]
    },
    {
      "cell_type": "markdown",
      "metadata": {
        "id": "f5e5870f-6b8b-4dc7-828b-99165eb564f7"
      },
      "source": [
        "#### Number to word\n",
        "*  we will need this one at time of creating text from predicted values"
      ]
    },
    {
      "cell_type": "code",
      "execution_count": 12,
      "metadata": {
        "id": "19a875ee-0995-4b8c-bfc5-934016c4e6cc"
      },
      "outputs": [],
      "source": [
        "eng_index_word = dict((i, w) for i, w in enumerate(eng_words))\n",
        "mar_index_word = dict((i,w) for i, w in enumerate(mar_words))"
      ]
    },
    {
      "cell_type": "code",
      "execution_count": null,
      "metadata": {
        "id": "yq1W1V3ZmC4X"
      },
      "outputs": [],
      "source": [
        "mar_index_word"
      ]
    },
    {
      "cell_type": "markdown",
      "metadata": {
        "id": "aae52575-dc0e-49cc-b092-02fa4b38f8f3"
      },
      "source": [
        "### Train test split"
      ]
    },
    {
      "cell_type": "code",
      "execution_count": 14,
      "metadata": {
        "id": "4f1f048e-478f-4cb9-9709-a063f5a9f832"
      },
      "outputs": [],
      "source": [
        "X_train, X_test, y_train, y_test= train_test_split(df.English, df.Marathi, test_size=0.2, random_state=0)"
      ]
    },
    {
      "cell_type": "code",
      "execution_count": 15,
      "metadata": {
        "colab": {
          "base_uri": "https://localhost:8080/"
        },
        "id": "33bea87a-2739-43fb-97de-7eea2fd2bc95",
        "outputId": "532b6138-daab-4c9b-dd6b-d8d176119a0d"
      },
      "outputs": [
        {
          "output_type": "execute_result",
          "data": {
            "text/plain": [
              "((37596,), (9399,), (37596,), (9399,))"
            ]
          },
          "metadata": {},
          "execution_count": 15
        }
      ],
      "source": [
        "X_train.shape, X_test.shape, y_train.shape, y_test.shape"
      ]
    },
    {
      "cell_type": "markdown",
      "metadata": {
        "id": "65197549-2162-4447-ac85-1768f5672f40"
      },
      "source": [
        "## Create data generator\n",
        "* if we create array of 3d shape with our vocab size this will give us out of memmory error\n",
        "* And it is always best to use batches to train it will make process faster\n",
        "* Insted of passing all data in model which may run out of memory we create data generator which will create data batches at time of training"
      ]
    },
    {
      "cell_type": "markdown",
      "metadata": {
        "id": "ce2e0fd8-9cb2-47c3-b7b8-7b4f94c9332f"
      },
      "source": [
        "#### prepare input for encoder decoder [refer](https://blog.keras.io/a-ten-minute-introduction-to-sequence-to-sequence-learning-in-keras.html)\n",
        "* Turn the sentences into 3 Numpy arrays, encoder_input_data, decoder_input_data, decoder_target_data:\n",
        ">* encoder_input_data is a 3D array of shape (num_pairs,max_english_sentence_length, num_english_characters) containing a one-hot vectorization of the English sentences.\n",
        ">* decoder_input_data is a 3D array of shape (num_pairs, max_french_sentence_length, num_french_characters) containg a one-hot vectorization of the French sentences.\n",
        ">* decoder_target_data is the same as decoder_input_data but offset by one timestep. decoder_target_data[:, t, :] will be the same as decoder_input_data[:, t + 1, :].\n",
        "* 2) Train a basic LSTM-based Seq2Seq model to predict decoder_target_data given encoder_input_data and decoder_input_data. Our model uses teacher forcing.\n",
        "* 3) Decode some sentences to check that the model is working (i.e. turn samples from encoder_input_data into corresponding samples from decoder_target_data).\n",
        "\n",
        "* We use a technique called “Teacher Forcing” wherein the input at each time step is given as the actual output (and not the predicted output) from the previous time step."
      ]
    },
    {
      "cell_type": "markdown",
      "metadata": {
        "id": "hXmGslnnwF8u"
      },
      "source": [
        "#### Before we go ahead lets define some things we need for data generator"
      ]
    },
    {
      "cell_type": "code",
      "execution_count": 16,
      "metadata": {
        "id": "KmQkNBlywVnU"
      },
      "outputs": [],
      "source": [
        "### Get lengths of each sentence in list\n",
        "eng_len_list=df.English.apply(lambda x: len(x.split())).to_list()\n",
        "\n",
        "mar_len_list=df.Marathi.apply(lambda x: len(x.split())).to_list()\n"
      ]
    },
    {
      "cell_type": "code",
      "execution_count": 17,
      "metadata": {
        "colab": {
          "base_uri": "https://localhost:8080/"
        },
        "id": "0jjZ9wIpw4z3",
        "outputId": "7c87d2c2-a49c-404f-e287-08c5c71207b9"
      },
      "outputs": [
        {
          "output_type": "execute_result",
          "data": {
            "text/plain": [
              "(37, 36)"
            ]
          },
          "metadata": {},
          "execution_count": 17
        }
      ],
      "source": [
        "# get max length\n",
        "np.max(mar_len_list), np.max(eng_len_list)"
      ]
    },
    {
      "cell_type": "code",
      "execution_count": 18,
      "metadata": {
        "id": "25658248-98a8-48de-88e5-8d0ad1c1ccf9"
      },
      "outputs": [],
      "source": [
        "BATCH_SIZE= 64\n",
        "max_eng_len =  np.max(eng_len_list)\n",
        "max_mar_len =  np.max(mar_len_list)"
      ]
    },
    {
      "cell_type": "code",
      "execution_count": 19,
      "metadata": {
        "colab": {
          "base_uri": "https://localhost:8080/"
        },
        "id": "qM1VRPLkxgkg",
        "outputId": "7bf09863-5789-416d-b51b-9df5979c230b"
      },
      "outputs": [
        {
          "output_type": "execute_result",
          "data": {
            "text/plain": [
              "(36, 37)"
            ]
          },
          "metadata": {},
          "execution_count": 19
        }
      ],
      "source": [
        "max_eng_len, max_mar_len"
      ]
    },
    {
      "cell_type": "code",
      "execution_count": 20,
      "metadata": {
        "id": "578042e4-1fb3-490f-815d-1560be84bb39"
      },
      "outputs": [],
      "source": [
        "def data_batch_generator(x, y, batch_size=BATCH_SIZE):\n",
        "    while True:\n",
        "        for i in range(0, len(x), batch_size):\n",
        "            encoder_input_data = np.zeros((batch_size,max_eng_len ), dtype='float32')\n",
        "            decoder_input_data = np.zeros((batch_size, max_mar_len), dtype='float32')\n",
        "            # one hot encoded target data beause dense layer with softmax will give only one output at a time\n",
        "            decoder_target_data = np.zeros((batch_size, max_mar_len, MAR_VOCAB_SIZE), dtype='float32' )\n",
        "            for j, (eng_text, mar_text) in enumerate(zip(x[i:i+batch_size], y[i:i+batch_size])):\n",
        "                for t , word in enumerate(eng_text.split()):\n",
        "                    encoder_input_data[j,t] = eng_word_index[word]\n",
        "                for t, word in enumerate(mar_text.split()):\n",
        "                    if t < len(mar_text.split()) - 1:\n",
        "                        decoder_input_data[j,t]= mar_word_index[word]\n",
        "                    if t>0:\n",
        "                        # This is decoder target output which is one step ahead of decoder input\n",
        "                        # it does not have EOS token\n",
        "                        decoder_target_data[j,t-1, mar_word_index[word]] = 1.\n",
        "            yield ([encoder_input_data, decoder_input_data], decoder_target_data)\n"
      ]
    },
    {
      "cell_type": "markdown",
      "metadata": {
        "id": "984a1ae0-6540-4359-bd9d-de6af0fd13a6"
      },
      "source": [
        "# LSTM Encoder Decoder Model"
      ]
    },
    {
      "cell_type": "code",
      "execution_count": 21,
      "metadata": {
        "id": "549a9719-6cfa-45e8-8b0b-6a8d54f8a4dd"
      },
      "outputs": [],
      "source": [
        "from tensorflow.keras.layers import LSTM, Dropout, Dense, Embedding\n",
        "from tensorflow.keras import Input, Model"
      ]
    },
    {
      "cell_type": "code",
      "execution_count": 22,
      "metadata": {
        "id": "571de098-9471-46c3-85df-9e8a330c0b14"
      },
      "outputs": [],
      "source": [
        "# Eoncoder\n",
        "encoder_input = Input(shape=(None, ))\n",
        "encoder_embd = Embedding(ENG_VOCAB_SIZE,100, mask_zero=True)(encoder_input)\n",
        "encoder_lstm = LSTM(100, return_state=True)\n",
        "encoder_output,state_h, state_c = encoder_lstm(encoder_embd)\n",
        "\n",
        "## Now take only states and create context vector\n",
        "encoder_states= [state_h, state_c]\n",
        "\n",
        "# Decoder\n",
        "decoder_input = Input(shape=(None,))\n",
        "# For zero padding we have added +1 in marathi vocab size\n",
        "decoder_embd = Embedding(MAR_VOCAB_SIZE, 100, mask_zero=True)\n",
        "decoder_embedding= decoder_embd(decoder_input)\n",
        "decoder_lstm = LSTM(100, return_state=True,return_sequences=True )\n",
        "# just take output of this decoder dont need self states\n",
        "decoder_outputs, _, _= decoder_lstm(decoder_embedding, initial_state=encoder_states)\n",
        "# here this is going to predicct so we can add dense layer here\n",
        "# here we want to convert predicted numbers into probability so use softmax\n",
        "decoder_dense= Dense(MAR_VOCAB_SIZE, activation='softmax')\n",
        "# We will again feed predicted output into decoder to predict its next word\n",
        "decoder_outputs = decoder_dense(decoder_outputs)\n",
        "\n",
        "model1 = Model([encoder_input, decoder_input], decoder_outputs)"
      ]
    },
    {
      "cell_type": "code",
      "execution_count": 23,
      "metadata": {
        "colab": {
          "base_uri": "https://localhost:8080/",
          "height": 533
        },
        "id": "a7a63875-09b7-42a7-ac9a-388709d1f030",
        "outputId": "6b9c7636-0e30-4aba-a43f-32b3ac10c229"
      },
      "outputs": [
        {
          "output_type": "execute_result",
          "data": {
            "image/png": "[encoded data removed]",
            "text/plain": [
              "<IPython.core.display.Image object>"
            ]
          },
          "metadata": {},
          "execution_count": 23
        }
      ],
      "source": [
        "from tensorflow.keras.utils import  plot_model\n",
        "from tensorflow.keras.callbacks import ModelCheckpoint, EarlyStopping\n",
        "plot_model(model1,show_shapes=True)"
      ]
    },
    {
      "cell_type": "code",
      "execution_count": null,
      "metadata": {
        "id": "bb955cbf-fd5c-4c9a-8ade-3ba801a9fe42"
      },
      "outputs": [],
      "source": [
        "model1.compile(optimizer='adam', loss='categorical_crossentropy', metrics='accuracy')"
      ]
    },
    {
      "cell_type": "code",
      "execution_count": null,
      "metadata": {
        "id": "M0VaoiMfNARW"
      },
      "outputs": [],
      "source": [
        "checkpoint = ModelCheckpoint(\"/content/model_checkpoints/\", monitor='val_accuracy')\n",
        "\n",
        "early_stopping = EarlyStopping(monitor='val_accuracy', patience=5)\n",
        "\n",
        "callbacks_list = [checkpoint, early_stopping]"
      ]
    },
    {
      "cell_type": "markdown",
      "metadata": {
        "id": "ZA--PicSrFuY"
      },
      "source": [
        "#### to avoid unknown samples need to use sptes per epoch else model will fit for infinite samples"
      ]
    },
    {
      "cell_type": "code",
      "execution_count": null,
      "metadata": {
        "id": "20a44f08-c97f-499a-9a19-10e1a3bdd87d"
      },
      "outputs": [],
      "source": [
        "steps_per_epoch= np.ceil(len(X_train)/BATCH_SIZE)\n",
        "steps_per_epoch_val = np.ceil(len(X_train)/BATCH_SIZE)"
      ]
    },
    {
      "cell_type": "code",
      "execution_count": null,
      "metadata": {
        "colab": {
          "base_uri": "https://localhost:8080/"
        },
        "id": "T_LoE9qlrmxW",
        "outputId": "3dc1dff9-0aba-4f2b-fcf3-c18e8a22628e"
      },
      "outputs": [
        {
          "output_type": "execute_result",
          "data": {
            "text/plain": [
              "588.0"
            ]
          },
          "metadata": {},
          "execution_count": 66
        }
      ],
      "source": [
        "steps_per_epoch"
      ]
    },
    {
      "cell_type": "code",
      "execution_count": null,
      "metadata": {
        "colab": {
          "base_uri": "https://localhost:8080/"
        },
        "id": "NyudmuhTr6iA",
        "outputId": "e7ed1a0c-3aa4-4c6a-88bc-a66f3a8e122e"
      },
      "outputs": [
        {
          "output_type": "execute_result",
          "data": {
            "text/plain": [
              "30"
            ]
          },
          "metadata": {},
          "execution_count": 67
        }
      ],
      "source": [
        "EPOCHS= 30 #@param {type:'slider',min:10,max:100, step:10 }\n",
        "EPOCHS"
      ]
    },
    {
      "cell_type": "code",
      "execution_count": null,
      "metadata": {
        "colab": {
          "base_uri": "https://localhost:8080/"
        },
        "id": "29a3ac8d-6db9-4620-acea-4ffdb2c4d3ce",
        "outputId": "ce5ef008-ae33-4b92-d55b-7a9bd5cda3a0"
      },
      "outputs": [
        {
          "metadata": {
            "tags": null
          },
          "name": "stdout",
          "output_type": "stream",
          "text": [
            "Epoch 1/30\n",
            "588/588 [==============================] - ETA: 0s - loss: 6.0162 - accuracy: 0.1976"
          ]
        },
        {
          "metadata": {
            "tags": null
          },
          "name": "stderr",
          "output_type": "stream",
          "text": [
            "WARNING:absl:Found untraced functions such as lstm_cell_layer_call_fn, lstm_cell_layer_call_and_return_conditional_losses, lstm_cell_1_layer_call_fn, lstm_cell_1_layer_call_and_return_conditional_losses while saving (showing 4 of 4). These functions will not be directly callable after loading.\n"
          ]
        },
        {
          "metadata": {
            "tags": null
          },
          "name": "stdout",
          "output_type": "stream",
          "text": [
            "588/588 [==============================] - 380s 621ms/step - loss: 6.0162 - accuracy: 0.1976 - val_loss: 5.4789 - val_accuracy: 0.2191\n",
            "Epoch 2/30\n",
            "588/588 [==============================] - ETA: 0s - loss: 5.1496 - accuracy: 0.2502"
          ]
        },
        {
          "metadata": {
            "tags": null
          },
          "name": "stderr",
          "output_type": "stream",
          "text": [
            "WARNING:absl:Found untraced functions such as lstm_cell_layer_call_fn, lstm_cell_layer_call_and_return_conditional_losses, lstm_cell_1_layer_call_fn, lstm_cell_1_layer_call_and_return_conditional_losses while saving (showing 4 of 4). These functions will not be directly callable after loading.\n"
          ]
        },
        {
          "metadata": {
            "tags": null
          },
          "name": "stdout",
          "output_type": "stream",
          "text": [
            "588/588 [==============================] - 307s 522ms/step - loss: 5.1496 - accuracy: 0.2502 - val_loss: 4.9967 - val_accuracy: 0.2732\n",
            "Epoch 3/30\n",
            "588/588 [==============================] - ETA: 0s - loss: 4.6279 - accuracy: 0.2985"
          ]
        },
        {
          "metadata": {
            "tags": null
          },
          "name": "stderr",
          "output_type": "stream",
          "text": [
            "WARNING:absl:Found untraced functions such as lstm_cell_layer_call_fn, lstm_cell_layer_call_and_return_conditional_losses, lstm_cell_1_layer_call_fn, lstm_cell_1_layer_call_and_return_conditional_losses while saving (showing 4 of 4). These functions will not be directly callable after loading.\n"
          ]
        },
        {
          "metadata": {
            "tags": null
          },
          "name": "stdout",
          "output_type": "stream",
          "text": [
            "588/588 [==============================] - 337s 573ms/step - loss: 4.6279 - accuracy: 0.2985 - val_loss: 4.5702 - val_accuracy: 0.3252\n",
            "Epoch 4/30\n",
            "588/588 [==============================] - ETA: 0s - loss: 4.1319 - accuracy: 0.3509"
          ]
        },
        {
          "output_type": "stream",
          "name": "stderr",
          "text": [
            "WARNING:absl:Found untraced functions such as lstm_cell_layer_call_fn, lstm_cell_layer_call_and_return_conditional_losses, lstm_cell_1_layer_call_fn, lstm_cell_1_layer_call_and_return_conditional_losses while saving (showing 4 of 4). These functions will not be directly callable after loading.\n"
          ]
        },
        {
          "output_type": "stream",
          "name": "stdout",
          "text": [
            "\b\b\b\b\b\b\b\b\b\b\b\b\b\b\b\b\b\b\b\b\b\b\b\b\b\b\b\b\b\b\b\b\b\b\b\b\b\b\b\b\b\b\b\b\b\b\b\b\b\b\b\b\b\b\b\b\b\b\b\b\b\b\b\b\b\b\b\b\b\b\b\b\b\b\b\b\b\b\b\b\b\b\b\b\r588/588 [==============================] - 295s 502ms/step - loss: 4.1319 - accuracy: 0.3509 - val_loss: 4.2014 - val_accuracy: 0.3674\n",
            "Epoch 5/30\n",
            "588/588 [==============================] - ETA: 0s - loss: 3.6967 - accuracy: 0.3946"
          ]
        },
        {
          "output_type": "stream",
          "name": "stderr",
          "text": [
            "WARNING:absl:Found untraced functions such as lstm_cell_layer_call_fn, lstm_cell_layer_call_and_return_conditional_losses, lstm_cell_1_layer_call_fn, lstm_cell_1_layer_call_and_return_conditional_losses while saving (showing 4 of 4). These functions will not be directly callable after loading.\n"
          ]
        },
        {
          "output_type": "stream",
          "name": "stdout",
          "text": [
            "\b\b\b\b\b\b\b\b\b\b\b\b\b\b\b\b\b\b\b\b\b\b\b\b\b\b\b\b\b\b\b\b\b\b\b\b\b\b\b\b\b\b\b\b\b\b\b\b\b\b\b\b\b\b\b\b\b\b\b\b\b\b\b\b\b\b\b\b\b\b\b\b\b\b\b\b\b\b\b\b\b\b\b\b\r588/588 [==============================] - 290s 493ms/step - loss: 3.6967 - accuracy: 0.3946 - val_loss: 3.9066 - val_accuracy: 0.3982\n",
            "Epoch 6/30\n",
            "588/588 [==============================] - ETA: 0s - loss: 3.3220 - accuracy: 0.4318"
          ]
        },
        {
          "output_type": "stream",
          "name": "stderr",
          "text": [
            "WARNING:absl:Found untraced functions such as lstm_cell_layer_call_fn, lstm_cell_layer_call_and_return_conditional_losses, lstm_cell_1_layer_call_fn, lstm_cell_1_layer_call_and_return_conditional_losses while saving (showing 4 of 4). These functions will not be directly callable after loading.\n"
          ]
        },
        {
          "output_type": "stream",
          "name": "stdout",
          "text": [
            "\b\b\b\b\b\b\b\b\b\b\b\b\b\b\b\b\b\b\b\b\b\b\b\b\b\b\b\b\b\b\b\b\b\b\b\b\b\b\b\b\b\b\b\b\b\b\b\b\b\b\b\b\b\b\b\b\b\b\b\b\b\b\b\b\b\b\b\b\b\b\b\b\b\b\b\b\b\b\b\b\b\b\b\b\r588/588 [==============================] - 328s 558ms/step - loss: 3.3220 - accuracy: 0.4318 - val_loss: 3.6635 - val_accuracy: 0.4247\n",
            "Epoch 7/30\n",
            "588/588 [==============================] - ETA: 0s - loss: 2.9867 - accuracy: 0.4671"
          ]
        },
        {
          "output_type": "stream",
          "name": "stderr",
          "text": [
            "WARNING:absl:Found untraced functions such as lstm_cell_layer_call_fn, lstm_cell_layer_call_and_return_conditional_losses, lstm_cell_1_layer_call_fn, lstm_cell_1_layer_call_and_return_conditional_losses while saving (showing 4 of 4). These functions will not be directly callable after loading.\n"
          ]
        },
        {
          "output_type": "stream",
          "name": "stdout",
          "text": [
            "\b\b\b\b\b\b\b\b\b\b\b\b\b\b\b\b\b\b\b\b\b\b\b\b\b\b\b\b\b\b\b\b\b\b\b\b\b\b\b\b\b\b\b\b\b\b\b\b\b\b\b\b\b\b\b\b\b\b\b\b\b\b\b\b\b\b\b\b\b\b\b\b\b\b\b\b\b\b\b\b\b\b\b\b\r588/588 [==============================] - 288s 490ms/step - loss: 2.9867 - accuracy: 0.4671 - val_loss: 3.4652 - val_accuracy: 0.4468\n",
            "Epoch 8/30\n",
            "588/588 [==============================] - ETA: 0s - loss: 2.6888 - accuracy: 0.5012"
          ]
        },
        {
          "output_type": "stream",
          "name": "stderr",
          "text": [
            "WARNING:absl:Found untraced functions such as lstm_cell_layer_call_fn, lstm_cell_layer_call_and_return_conditional_losses, lstm_cell_1_layer_call_fn, lstm_cell_1_layer_call_and_return_conditional_losses while saving (showing 4 of 4). These functions will not be directly callable after loading.\n"
          ]
        },
        {
          "output_type": "stream",
          "name": "stdout",
          "text": [
            "\b\b\b\b\b\b\b\b\b\b\b\b\b\b\b\b\b\b\b\b\b\b\b\b\b\b\b\b\b\b\b\b\b\b\b\b\b\b\b\b\b\b\b\b\b\b\b\b\b\b\b\b\b\b\b\b\b\b\b\b\b\b\b\b\b\b\b\b\b\b\b\b\b\b\b\b\b\b\b\b\b\b\b\b\r588/588 [==============================] - 286s 487ms/step - loss: 2.6888 - accuracy: 0.5012 - val_loss: 3.2917 - val_accuracy: 0.4700\n",
            "Epoch 9/30\n",
            "588/588 [==============================] - ETA: 0s - loss: 2.4211 - accuracy: 0.5348"
          ]
        },
        {
          "output_type": "stream",
          "name": "stderr",
          "text": [
            "WARNING:absl:Found untraced functions such as lstm_cell_layer_call_fn, lstm_cell_layer_call_and_return_conditional_losses, lstm_cell_1_layer_call_fn, lstm_cell_1_layer_call_and_return_conditional_losses while saving (showing 4 of 4). These functions will not be directly callable after loading.\n"
          ]
        },
        {
          "output_type": "stream",
          "name": "stdout",
          "text": [
            "\b\b\b\b\b\b\b\b\b\b\b\b\b\b\b\b\b\b\b\b\b\b\b\b\b\b\b\b\b\b\b\b\b\b\b\b\b\b\b\b\b\b\b\b\b\b\b\b\b\b\b\b\b\b\b\b\b\b\b\b\b\b\b\b\b\b\b\b\b\b\b\b\b\b\b\b\b\b\b\b\b\b\b\b\r588/588 [==============================] - 288s 491ms/step - loss: 2.4211 - accuracy: 0.5348 - val_loss: 3.1463 - val_accuracy: 0.4898\n",
            "Epoch 10/30\n",
            "588/588 [==============================] - ETA: 0s - loss: 2.1800 - accuracy: 0.5680"
          ]
        },
        {
          "output_type": "stream",
          "name": "stderr",
          "text": [
            "WARNING:absl:Found untraced functions such as lstm_cell_layer_call_fn, lstm_cell_layer_call_and_return_conditional_losses, lstm_cell_1_layer_call_fn, lstm_cell_1_layer_call_and_return_conditional_losses while saving (showing 4 of 4). These functions will not be directly callable after loading.\n"
          ]
        },
        {
          "output_type": "stream",
          "name": "stdout",
          "text": [
            "\b\b\b\b\b\b\b\b\b\b\b\b\b\b\b\b\b\b\b\b\b\b\b\b\b\b\b\b\b\b\b\b\b\b\b\b\b\b\b\b\b\b\b\b\b\b\b\b\b\b\b\b\b\b\b\b\b\b\b\b\b\b\b\b\b\b\b\b\b\b\b\b\b\b\b\b\b\b\b\b\b\b\b\b\r588/588 [==============================] - 325s 553ms/step - loss: 2.1800 - accuracy: 0.5680 - val_loss: 3.0269 - val_accuracy: 0.5074\n",
            "Epoch 11/30\n",
            "588/588 [==============================] - ETA: 0s - loss: 1.9636 - accuracy: 0.5990"
          ]
        },
        {
          "output_type": "stream",
          "name": "stderr",
          "text": [
            "WARNING:absl:Found untraced functions such as lstm_cell_layer_call_fn, lstm_cell_layer_call_and_return_conditional_losses, lstm_cell_1_layer_call_fn, lstm_cell_1_layer_call_and_return_conditional_losses while saving (showing 4 of 4). These functions will not be directly callable after loading.\n"
          ]
        },
        {
          "output_type": "stream",
          "name": "stdout",
          "text": [
            "\b\b\b\b\b\b\b\b\b\b\b\b\b\b\b\b\b\b\b\b\b\b\b\b\b\b\b\b\b\b\b\b\b\b\b\b\b\b\b\b\b\b\b\b\b\b\b\b\b\b\b\b\b\b\b\b\b\b\b\b\b\b\b\b\b\b\b\b\b\b\b\b\b\b\b\b\b\b\b\b\b\b\b\b\r588/588 [==============================] - 326s 555ms/step - loss: 1.9636 - accuracy: 0.5990 - val_loss: 2.9261 - val_accuracy: 0.5206\n",
            "Epoch 12/30\n",
            "588/588 [==============================] - ETA: 0s - loss: 1.7706 - accuracy: 0.6291"
          ]
        },
        {
          "output_type": "stream",
          "name": "stderr",
          "text": [
            "WARNING:absl:Found untraced functions such as lstm_cell_layer_call_fn, lstm_cell_layer_call_and_return_conditional_losses, lstm_cell_1_layer_call_fn, lstm_cell_1_layer_call_and_return_conditional_losses while saving (showing 4 of 4). These functions will not be directly callable after loading.\n"
          ]
        },
        {
          "output_type": "stream",
          "name": "stdout",
          "text": [
            "\b\b\b\b\b\b\b\b\b\b\b\b\b\b\b\b\b\b\b\b\b\b\b\b\b\b\b\b\b\b\b\b\b\b\b\b\b\b\b\b\b\b\b\b\b\b\b\b\b\b\b\b\b\b\b\b\b\b\b\b\b\b\b\b\b\b\b\b\b\b\b\b\b\b\b\b\b\b\b\b\b\b\b\b\r588/588 [==============================] - 326s 556ms/step - loss: 1.7706 - accuracy: 0.6291 - val_loss: 2.8387 - val_accuracy: 0.5332\n",
            "Epoch 13/30\n",
            "588/588 [==============================] - ETA: 0s - loss: 1.5976 - accuracy: 0.6580"
          ]
        },
        {
          "output_type": "stream",
          "name": "stderr",
          "text": [
            "WARNING:absl:Found untraced functions such as lstm_cell_layer_call_fn, lstm_cell_layer_call_and_return_conditional_losses, lstm_cell_1_layer_call_fn, lstm_cell_1_layer_call_and_return_conditional_losses while saving (showing 4 of 4). These functions will not be directly callable after loading.\n"
          ]
        },
        {
          "output_type": "stream",
          "name": "stdout",
          "text": [
            "\b\b\b\b\b\b\b\b\b\b\b\b\b\b\b\b\b\b\b\b\b\b\b\b\b\b\b\b\b\b\b\b\b\b\b\b\b\b\b\b\b\b\b\b\b\b\b\b\b\b\b\b\b\b\b\b\b\b\b\b\b\b\b\b\b\b\b\b\b\b\b\b\b\b\b\b\b\b\b\b\b\b\b\b\r588/588 [==============================] - 325s 553ms/step - loss: 1.5976 - accuracy: 0.6580 - val_loss: 2.7719 - val_accuracy: 0.5451\n",
            "Epoch 14/30\n",
            "588/588 [==============================] - ETA: 0s - loss: 1.4419 - accuracy: 0.6856"
          ]
        }
      ],
      "source": [
        "history1= model1.fit(data_batch_generator(X_train,y_train),\n",
        "                       epochs=EPOCHS,\n",
        "                       steps_per_epoch= steps_per_epoch,\n",
        "                     validation_data=data_batch_generator(X_test, y_test, BATCH_SIZE),\n",
        "                       validation_steps=steps_per_epoch_val,\n",
        "                     callbacks=callbacks_list)"
      ]
    },
    {
      "cell_type": "code",
      "execution_count": null,
      "metadata": {
        "id": "mjZXwzehx7d2"
      },
      "outputs": [],
      "source": [
        "model1.save_weights('/content/model1_weights.h5')"
      ]
    },
    {
      "cell_type": "code",
      "execution_count": null,
      "metadata": {
        "id": "8qYpoNVAbuEf"
      },
      "outputs": [],
      "source": [
        "model1.load_weights('/content/model1_weights.h5')"
      ]
    },
    {
      "cell_type": "markdown",
      "metadata": {
        "id": "vBiNqCFhT1LJ"
      },
      "source": [
        "# Model2\n",
        "Now we will try to improve its accurcy with changing some units"
      ]
    },
    {
      "cell_type": "code",
      "execution_count": 31,
      "metadata": {
        "id": "X6mEo4AJT-AX"
      },
      "outputs": [],
      "source": [
        "# Eoncoder\n",
        "encoder_input = Input(shape=(None, ))\n",
        "encoder_embd = Embedding(ENG_VOCAB_SIZE,1000, mask_zero=True)(encoder_input)\n",
        "encoder_lstm = LSTM(250, return_state=True)\n",
        "encoder_output,state_h, state_c = encoder_lstm(encoder_embd)\n",
        "\n",
        "## Now take only states and create context vector\n",
        "encoder_states= [state_h, state_c]\n",
        "\n",
        "# Decoder\n",
        "decoder_input = Input(shape=(None,))\n",
        "# For zero padding we have added +1 in marathi vocab size\n",
        "decoder_embd = Embedding(MAR_VOCAB_SIZE, 1000, mask_zero=True)\n",
        "decoder_embedding= decoder_embd(decoder_input)\n",
        "decoder_lstm = LSTM(250, return_state=True,return_sequences=True )\n",
        "# just take output of this decoder dont need self states\n",
        "decoder_outputs, _, _= decoder_lstm(decoder_embedding, initial_state=encoder_states)\n",
        "# here this is going to predicct so we can add dense layer here\n",
        "# here we want to convert predicted numbers into probability so use softmax\n",
        "decoder_dense= Dense(MAR_VOCAB_SIZE, activation='softmax')\n",
        "# We will again feed predicted output into decoder to predict its next word\n",
        "decoder_outputs = decoder_dense(decoder_outputs)\n",
        "\n",
        "model2 = Model([encoder_input, decoder_input], decoder_outputs)"
      ]
    },
    {
      "cell_type": "code",
      "execution_count": 32,
      "metadata": {
        "colab": {
          "base_uri": "https://localhost:8080/",
          "height": 533
        },
        "id": "dnObzoz9T-AZ",
        "outputId": "e4a5f2e6-4157-45e3-9644-71c977ba4c3a"
      },
      "outputs": [
        {
          "output_type": "execute_result",
          "data": {
            "image/png": "[encoded data removed]",
            "text/plain": [
              "<IPython.core.display.Image object>"
            ]
          },
          "metadata": {},
          "execution_count": 32
        }
      ],
      "source": [
        "from tensorflow.keras.utils import  plot_model\n",
        "from tensorflow.keras.callbacks import ModelCheckpoint, EarlyStopping\n",
        "plot_model(model2,show_shapes=True)"
      ]
    },
    {
      "cell_type": "code",
      "execution_count": 33,
      "metadata": {
        "id": "PA_dopDpT-Ab"
      },
      "outputs": [],
      "source": [
        "model2.compile(optimizer='adam', loss='categorical_crossentropy', metrics='accuracy')"
      ]
    },
    {
      "cell_type": "code",
      "execution_count": 34,
      "metadata": {
        "id": "BKT-XO8yT-Ac"
      },
      "outputs": [],
      "source": [
        "checkpoint = ModelCheckpoint(\"/content/model_checkpoints/model2/\", monitor='val_accuracy')\n",
        "\n",
        "early_stopping = EarlyStopping(monitor='val_accuracy', patience=5)\n",
        "\n",
        "callbacks_list = [checkpoint, early_stopping]"
      ]
    },
    {
      "cell_type": "code",
      "execution_count": 35,
      "metadata": {
        "id": "YNFCSoWiT-Ac"
      },
      "outputs": [],
      "source": [
        "steps_per_epoch= np.ceil(len(X_train)/BATCH_SIZE)\n",
        "steps_per_epoch_val = np.ceil(len(X_train)/BATCH_SIZE)"
      ]
    },
    {
      "cell_type": "code",
      "execution_count": 36,
      "metadata": {
        "colab": {
          "base_uri": "https://localhost:8080/"
        },
        "id": "Stxp05XFT-Ad",
        "outputId": "d0d738ba-fe10-4097-a9a3-b8784edb3c5b"
      },
      "outputs": [
        {
          "output_type": "execute_result",
          "data": {
            "text/plain": [
              "30"
            ]
          },
          "metadata": {},
          "execution_count": 36
        }
      ],
      "source": [
        "EPOCHS= 30 #@param {type:'slider',min:10,max:100, step:10 }\n",
        "EPOCHS"
      ]
    },
    {
      "cell_type": "code",
      "execution_count": 37,
      "metadata": {
        "colab": {
          "base_uri": "https://localhost:8080/"
        },
        "id": "k1WWj5LeT-Ae",
        "outputId": "ae640b6d-f1f7-4696-c721-43ab903e54f1"
      },
      "outputs": [
        {
          "metadata": {
            "tags": null
          },
          "name": "stdout",
          "output_type": "stream",
          "text": [
            "Epoch 1/30\n",
            "588/588 [==============================] - ETA: 0s - loss: 5.6318 - accuracy: 0.2232"
          ]
        },
        {
          "metadata": {
            "tags": null
          },
          "name": "stderr",
          "output_type": "stream",
          "text": [
            "WARNING:absl:Found untraced functions such as lstm_cell_4_layer_call_fn, lstm_cell_4_layer_call_and_return_conditional_losses, lstm_cell_5_layer_call_fn, lstm_cell_5_layer_call_and_return_conditional_losses while saving (showing 4 of 4). These functions will not be directly callable after loading.\n"
          ]
        },
        {
          "metadata": {
            "tags": null
          },
          "name": "stdout",
          "output_type": "stream",
          "text": [
            "588/588 [==============================] - 338s 559ms/step - loss: 5.6318 - accuracy: 0.2232 - val_loss: 4.9224 - val_accuracy: 0.2734\n",
            "Epoch 2/30\n",
            "588/588 [==============================] - ETA: 0s - loss: 4.2389 - accuracy: 0.3482"
          ]
        },
        {
          "metadata": {
            "tags": null
          },
          "name": "stderr",
          "output_type": "stream",
          "text": [
            "WARNING:absl:Found untraced functions such as lstm_cell_4_layer_call_fn, lstm_cell_4_layer_call_and_return_conditional_losses, lstm_cell_5_layer_call_fn, lstm_cell_5_layer_call_and_return_conditional_losses while saving (showing 4 of 4). These functions will not be directly callable after loading.\n"
          ]
        },
        {
          "metadata": {
            "tags": null
          },
          "name": "stdout",
          "output_type": "stream",
          "text": [
            "588/588 [==============================] - 316s 538ms/step - loss: 4.2389 - accuracy: 0.3482 - val_loss: 3.8951 - val_accuracy: 0.4053\n",
            "Epoch 3/30\n",
            "588/588 [==============================] - ETA: 0s - loss: 3.1803 - accuracy: 0.4625"
          ]
        },
        {
          "metadata": {
            "tags": null
          },
          "name": "stderr",
          "output_type": "stream",
          "text": [
            "WARNING:absl:Found untraced functions such as lstm_cell_4_layer_call_fn, lstm_cell_4_layer_call_and_return_conditional_losses, lstm_cell_5_layer_call_fn, lstm_cell_5_layer_call_and_return_conditional_losses while saving (showing 4 of 4). These functions will not be directly callable after loading.\n"
          ]
        },
        {
          "metadata": {
            "tags": null
          },
          "name": "stdout",
          "output_type": "stream",
          "text": [
            "588/588 [==============================] - 305s 518ms/step - loss: 3.1803 - accuracy: 0.4625 - val_loss: 3.2095 - val_accuracy: 0.4857\n",
            "Epoch 4/30\n",
            "588/588 [==============================] - ETA: 0s - loss: 2.3810 - accuracy: 0.5578"
          ]
        },
        {
          "metadata": {
            "tags": null
          },
          "name": "stderr",
          "output_type": "stream",
          "text": [
            "WARNING:absl:Found untraced functions such as lstm_cell_4_layer_call_fn, lstm_cell_4_layer_call_and_return_conditional_losses, lstm_cell_5_layer_call_fn, lstm_cell_5_layer_call_and_return_conditional_losses while saving (showing 4 of 4). These functions will not be directly callable after loading.\n"
          ]
        },
        {
          "metadata": {
            "tags": null
          },
          "name": "stdout",
          "output_type": "stream",
          "text": [
            "588/588 [==============================] - 317s 539ms/step - loss: 2.3810 - accuracy: 0.5578 - val_loss: 2.7854 - val_accuracy: 0.5405\n",
            "Epoch 5/30\n",
            "588/588 [==============================] - ETA: 0s - loss: 1.7857 - accuracy: 0.6388"
          ]
        },
        {
          "metadata": {
            "tags": null
          },
          "name": "stderr",
          "output_type": "stream",
          "text": [
            "WARNING:absl:Found untraced functions such as lstm_cell_4_layer_call_fn, lstm_cell_4_layer_call_and_return_conditional_losses, lstm_cell_5_layer_call_fn, lstm_cell_5_layer_call_and_return_conditional_losses while saving (showing 4 of 4). These functions will not be directly callable after loading.\n"
          ]
        },
        {
          "metadata": {
            "tags": null
          },
          "name": "stdout",
          "output_type": "stream",
          "text": [
            "588/588 [==============================] - 351s 598ms/step - loss: 1.7857 - accuracy: 0.6388 - val_loss: 2.5091 - val_accuracy: 0.5797\n",
            "Epoch 6/30\n",
            "588/588 [==============================] - ETA: 0s - loss: 1.3384 - accuracy: 0.7098"
          ]
        },
        {
          "metadata": {
            "tags": null
          },
          "name": "stderr",
          "output_type": "stream",
          "text": [
            "WARNING:absl:Found untraced functions such as lstm_cell_4_layer_call_fn, lstm_cell_4_layer_call_and_return_conditional_losses, lstm_cell_5_layer_call_fn, lstm_cell_5_layer_call_and_return_conditional_losses while saving (showing 4 of 4). These functions will not be directly callable after loading.\n"
          ]
        },
        {
          "metadata": {
            "tags": null
          },
          "name": "stdout",
          "output_type": "stream",
          "text": [
            "588/588 [==============================] - 349s 594ms/step - loss: 1.3384 - accuracy: 0.7098 - val_loss: 2.3367 - val_accuracy: 0.6079\n",
            "Epoch 7/30\n",
            "588/588 [==============================] - ETA: 0s - loss: 1.0079 - accuracy: 0.7685"
          ]
        },
        {
          "metadata": {
            "tags": null
          },
          "name": "stderr",
          "output_type": "stream",
          "text": [
            "WARNING:absl:Found untraced functions such as lstm_cell_4_layer_call_fn, lstm_cell_4_layer_call_and_return_conditional_losses, lstm_cell_5_layer_call_fn, lstm_cell_5_layer_call_and_return_conditional_losses while saving (showing 4 of 4). These functions will not be directly callable after loading.\n"
          ]
        },
        {
          "metadata": {
            "tags": null
          },
          "name": "stdout",
          "output_type": "stream",
          "text": [
            "588/588 [==============================] - 347s 591ms/step - loss: 1.0079 - accuracy: 0.7685 - val_loss: 2.2425 - val_accuracy: 0.6259\n",
            "Epoch 8/30\n",
            "588/588 [==============================] - ETA: 0s - loss: 0.7671 - accuracy: 0.8156"
          ]
        },
        {
          "metadata": {
            "tags": null
          },
          "name": "stderr",
          "output_type": "stream",
          "text": [
            "WARNING:absl:Found untraced functions such as lstm_cell_4_layer_call_fn, lstm_cell_4_layer_call_and_return_conditional_losses, lstm_cell_5_layer_call_fn, lstm_cell_5_layer_call_and_return_conditional_losses while saving (showing 4 of 4). These functions will not be directly callable after loading.\n"
          ]
        },
        {
          "metadata": {
            "tags": null
          },
          "name": "stdout",
          "output_type": "stream",
          "text": [
            "588/588 [==============================] - 316s 537ms/step - loss: 0.7671 - accuracy: 0.8156 - val_loss: 2.1864 - val_accuracy: 0.6378\n",
            "Epoch 9/30\n",
            "588/588 [==============================] - ETA: 0s - loss: 0.5968 - accuracy: 0.8492"
          ]
        },
        {
          "metadata": {
            "tags": null
          },
          "name": "stderr",
          "output_type": "stream",
          "text": [
            "WARNING:absl:Found untraced functions such as lstm_cell_4_layer_call_fn, lstm_cell_4_layer_call_and_return_conditional_losses, lstm_cell_5_layer_call_fn, lstm_cell_5_layer_call_and_return_conditional_losses while saving (showing 4 of 4). These functions will not be directly callable after loading.\n"
          ]
        },
        {
          "metadata": {
            "tags": null
          },
          "name": "stdout",
          "output_type": "stream",
          "text": [
            "588/588 [==============================] - 351s 598ms/step - loss: 0.5968 - accuracy: 0.8492 - val_loss: 2.1568 - val_accuracy: 0.6433\n",
            "Epoch 10/30\n",
            "588/588 [==============================] - ETA: 0s - loss: 0.4807 - accuracy: 0.8712"
          ]
        },
        {
          "metadata": {
            "tags": null
          },
          "name": "stderr",
          "output_type": "stream",
          "text": [
            "WARNING:absl:Found untraced functions such as lstm_cell_4_layer_call_fn, lstm_cell_4_layer_call_and_return_conditional_losses, lstm_cell_5_layer_call_fn, lstm_cell_5_layer_call_and_return_conditional_losses while saving (showing 4 of 4). These functions will not be directly callable after loading.\n"
          ]
        },
        {
          "metadata": {
            "tags": null
          },
          "name": "stdout",
          "output_type": "stream",
          "text": [
            "588/588 [==============================] - 345s 586ms/step - loss: 0.4807 - accuracy: 0.8712 - val_loss: 2.1585 - val_accuracy: 0.6454\n",
            "Epoch 11/30\n",
            "588/588 [==============================] - ETA: 0s - loss: 0.3981 - accuracy: 0.8872"
          ]
        },
        {
          "metadata": {
            "tags": null
          },
          "name": "stderr",
          "output_type": "stream",
          "text": [
            "WARNING:absl:Found untraced functions such as lstm_cell_4_layer_call_fn, lstm_cell_4_layer_call_and_return_conditional_losses, lstm_cell_5_layer_call_fn, lstm_cell_5_layer_call_and_return_conditional_losses while saving (showing 4 of 4). These functions will not be directly callable after loading.\n"
          ]
        },
        {
          "metadata": {
            "tags": null
          },
          "name": "stdout",
          "output_type": "stream",
          "text": [
            "588/588 [==============================] - 344s 586ms/step - loss: 0.3981 - accuracy: 0.8872 - val_loss: 2.1652 - val_accuracy: 0.6494\n",
            "Epoch 12/30\n",
            "588/588 [==============================] - ETA: 0s - loss: 0.3392 - accuracy: 0.8985"
          ]
        },
        {
          "metadata": {
            "tags": null
          },
          "name": "stderr",
          "output_type": "stream",
          "text": [
            "WARNING:absl:Found untraced functions such as lstm_cell_4_layer_call_fn, lstm_cell_4_layer_call_and_return_conditional_losses, lstm_cell_5_layer_call_fn, lstm_cell_5_layer_call_and_return_conditional_losses while saving (showing 4 of 4). These functions will not be directly callable after loading.\n"
          ]
        },
        {
          "metadata": {
            "tags": null
          },
          "name": "stdout",
          "output_type": "stream",
          "text": [
            "588/588 [==============================] - 309s 525ms/step - loss: 0.3392 - accuracy: 0.8985 - val_loss: 2.2014 - val_accuracy: 0.6472\n",
            "Epoch 13/30\n",
            "588/588 [==============================] - ETA: 0s - loss: 0.2962 - accuracy: 0.9068"
          ]
        },
        {
          "metadata": {
            "tags": null
          },
          "name": "stderr",
          "output_type": "stream",
          "text": [
            "WARNING:absl:Found untraced functions such as lstm_cell_4_layer_call_fn, lstm_cell_4_layer_call_and_return_conditional_losses, lstm_cell_5_layer_call_fn, lstm_cell_5_layer_call_and_return_conditional_losses while saving (showing 4 of 4). These functions will not be directly callable after loading.\n"
          ]
        },
        {
          "metadata": {
            "tags": null
          },
          "name": "stdout",
          "output_type": "stream",
          "text": [
            "588/588 [==============================] - 309s 526ms/step - loss: 0.2962 - accuracy: 0.9068 - val_loss: 2.2079 - val_accuracy: 0.6524\n",
            "Epoch 14/30\n",
            "588/588 [==============================] - ETA: 0s - loss: 0.2601 - accuracy: 0.9149"
          ]
        },
        {
          "metadata": {
            "tags": null
          },
          "name": "stderr",
          "output_type": "stream",
          "text": [
            "WARNING:absl:Found untraced functions such as lstm_cell_4_layer_call_fn, lstm_cell_4_layer_call_and_return_conditional_losses, lstm_cell_5_layer_call_fn, lstm_cell_5_layer_call_and_return_conditional_losses while saving (showing 4 of 4). These functions will not be directly callable after loading.\n"
          ]
        },
        {
          "metadata": {
            "tags": null
          },
          "name": "stdout",
          "output_type": "stream",
          "text": [
            "588/588 [==============================] - 314s 533ms/step - loss: 0.2601 - accuracy: 0.9149 - val_loss: 2.2402 - val_accuracy: 0.6506\n",
            "Epoch 15/30\n",
            "588/588 [==============================] - ETA: 0s - loss: 0.2336 - accuracy: 0.9204"
          ]
        },
        {
          "metadata": {
            "tags": null
          },
          "name": "stderr",
          "output_type": "stream",
          "text": [
            "WARNING:absl:Found untraced functions such as lstm_cell_4_layer_call_fn, lstm_cell_4_layer_call_and_return_conditional_losses, lstm_cell_5_layer_call_fn, lstm_cell_5_layer_call_and_return_conditional_losses while saving (showing 4 of 4). These functions will not be directly callable after loading.\n"
          ]
        },
        {
          "output_type": "stream",
          "name": "stdout",
          "text": [
            "588/588 [==============================] - 313s 533ms/step - loss: 0.2336 - accuracy: 0.9204 - val_loss: 2.2667 - val_accuracy: 0.6500\n",
            "Epoch 16/30\n",
            "588/588 [==============================] - ETA: 0s - loss: 0.2121 - accuracy: 0.9256"
          ]
        },
        {
          "output_type": "stream",
          "name": "stderr",
          "text": [
            "WARNING:absl:Found untraced functions such as lstm_cell_4_layer_call_fn, lstm_cell_4_layer_call_and_return_conditional_losses, lstm_cell_5_layer_call_fn, lstm_cell_5_layer_call_and_return_conditional_losses while saving (showing 4 of 4). These functions will not be directly callable after loading.\n"
          ]
        },
        {
          "output_type": "stream",
          "name": "stdout",
          "text": [
            "\b\b\b\b\b\b\b\b\b\b\b\b\b\b\b\b\b\b\b\b\b\b\b\b\b\b\b\b\b\b\b\b\b\b\b\b\b\b\b\b\b\b\b\b\b\b\b\b\b\b\b\b\b\b\b\b\b\b\b\b\b\b\b\b\b\b\b\b\b\b\b\b\b\b\b\b\b\b\b\b\b\b\b\b\r588/588 [==============================] - 346s 588ms/step - loss: 0.2121 - accuracy: 0.9256 - val_loss: 2.2957 - val_accuracy: 0.6492\n",
            "Epoch 17/30\n",
            "588/588 [==============================] - ETA: 0s - loss: 0.1949 - accuracy: 0.9299"
          ]
        },
        {
          "output_type": "stream",
          "name": "stderr",
          "text": [
            "WARNING:absl:Found untraced functions such as lstm_cell_4_layer_call_fn, lstm_cell_4_layer_call_and_return_conditional_losses, lstm_cell_5_layer_call_fn, lstm_cell_5_layer_call_and_return_conditional_losses while saving (showing 4 of 4). These functions will not be directly callable after loading.\n"
          ]
        },
        {
          "output_type": "stream",
          "name": "stdout",
          "text": [
            "\b\b\b\b\b\b\b\b\b\b\b\b\b\b\b\b\b\b\b\b\b\b\b\b\b\b\b\b\b\b\b\b\b\b\b\b\b\b\b\b\b\b\b\b\b\b\b\b\b\b\b\b\b\b\b\b\b\b\b\b\b\b\b\b\b\b\b\b\b\b\b\b\b\b\b\b\b\b\b\b\b\b\b\b\r588/588 [==============================] - 345s 587ms/step - loss: 0.1949 - accuracy: 0.9299 - val_loss: 2.3386 - val_accuracy: 0.6464\n",
            "Epoch 18/30\n",
            "588/588 [==============================] - ETA: 0s - loss: 0.1802 - accuracy: 0.9347"
          ]
        },
        {
          "output_type": "stream",
          "name": "stderr",
          "text": [
            "WARNING:absl:Found untraced functions such as lstm_cell_4_layer_call_fn, lstm_cell_4_layer_call_and_return_conditional_losses, lstm_cell_5_layer_call_fn, lstm_cell_5_layer_call_and_return_conditional_losses while saving (showing 4 of 4). These functions will not be directly callable after loading.\n"
          ]
        },
        {
          "output_type": "stream",
          "name": "stdout",
          "text": [
            "\b\b\b\b\b\b\b\b\b\b\b\b\b\b\b\b\b\b\b\b\b\b\b\b\b\b\b\b\b\b\b\b\b\b\b\b\b\b\b\b\b\b\b\b\b\b\b\b\b\b\b\b\b\b\b\b\b\b\b\b\b\b\b\b\b\b\b\b\b\b\b\b\b\b\b\b\b\b\b\b\b\b\b\b\r588/588 [==============================] - 309s 525ms/step - loss: 0.1802 - accuracy: 0.9347 - val_loss: 2.3774 - val_accuracy: 0.6456\n"
          ]
        }
      ],
      "source": [
        "history2= model2.fit(data_batch_generator(X_train,y_train),\n",
        "                       epochs=EPOCHS,\n",
        "                       steps_per_epoch= steps_per_epoch,\n",
        "                     validation_data=data_batch_generator(X_test, y_test, BATCH_SIZE),\n",
        "                       validation_steps=steps_per_epoch_val,\n",
        "                     callbacks=callbacks_list)"
      ]
    },
    {
      "cell_type": "code",
      "execution_count": 38,
      "metadata": {
        "id": "q46qGS07T31R"
      },
      "outputs": [],
      "source": [
        "model2.save_weights('/content/2_model_weights.h5')"
      ]
    },
    {
      "cell_type": "code",
      "execution_count": 39,
      "metadata": {
        "id": "Ird9oNUzT3y1"
      },
      "outputs": [],
      "source": [
        "model2.load_weights('/content/2_model_weights.h5')"
      ]
    },
    {
      "cell_type": "markdown",
      "metadata": {
        "id": "xZ4YOcAg-vGY"
      },
      "source": [
        "## Inference model\n",
        "*  As we trained our enoder decoder do same for prdiction means apply encoder on input sent and applying decoder on target sent"
      ]
    },
    {
      "cell_type": "code",
      "execution_count": 40,
      "metadata": {
        "id": "a06gEHmPanYD"
      },
      "outputs": [],
      "source": [
        "encoder_model = Model(encoder_input, encoder_states)"
      ]
    },
    {
      "cell_type": "code",
      "execution_count": 41,
      "metadata": {
        "id": "L7uAfAnoa4KS"
      },
      "outputs": [],
      "source": [
        "decoder_state_input_h = Input(shape=(250,))\n",
        "decoder_state_input_c= Input(shape=(250,))\n",
        "decoder_states_input= [decoder_state_input_h, decoder_state_input_c]\n",
        "\n",
        "dec_embd2 = decoder_embd(decoder_input)\n",
        "\n",
        "decoder_output2,state_h2, state_c2 = decoder_lstm(dec_embd2, initial_state=decoder_states_input)\n",
        "deccoder_states2= [state_h2, state_c2]\n",
        "\n",
        "decoder_output2 = decoder_dense(decoder_output2)\n",
        "\n",
        "decoder_model = Model(\n",
        "                      [decoder_input]+decoder_states_input,\n",
        "                      [decoder_output2]+ deccoder_states2)"
      ]
    },
    {
      "cell_type": "markdown",
      "metadata": {
        "id": "SIL9b9p1JCaN"
      },
      "source": [
        "# To predict we have to encoder text first then pass than to decoder we can get predicted values"
      ]
    },
    {
      "cell_type": "code",
      "execution_count": 42,
      "metadata": {
        "id": "aq7hdBLWcQY8"
      },
      "outputs": [],
      "source": [
        "def get_predicted_sentence(input_seq):\n",
        "    # Encode the input as state vectors.\n",
        "    states_value = encoder_model.predict(input_seq)\n",
        "\n",
        "    # Generate empty target sequence of length 1.\n",
        "    target_seq = np.zeros((1,1))\n",
        "\n",
        "    # Populate the first character of target sequence with the start character.\n",
        "    target_seq[0, 0] = mar_word_index['sos']\n",
        "\n",
        "    # Sampling loop for a batch of sequences\n",
        "    # (to simplify, here we assume a batch of size 1).\n",
        "    stop_condition = False\n",
        "    decoded_sentence = ''\n",
        "\n",
        "    while not stop_condition:\n",
        "        output_tokens, h, c = decoder_model.predict([target_seq] + states_value)\n",
        "        # Sample a token\n",
        "        sampled_token_index = np.argmax(output_tokens[0, -1, :])\n",
        "        # convert max index number to marathi word\n",
        "        sampled_char = mar_index_word[sampled_token_index]\n",
        "        # aapend it ti decoded sent\n",
        "        decoded_sentence += ' '+sampled_char\n",
        "\n",
        "        # Exit condition: either hit max length or find stop token.\n",
        "        if (sampled_char == 'eos' or len(decoded_sentence) > 50):\n",
        "            stop_condition = True\n",
        "\n",
        "        # Update the target sequence (of length 1).\n",
        "        target_seq = np.zeros((1,1))\n",
        "        target_seq[0, 0] = sampled_token_index\n",
        "\n",
        "        # Update states\n",
        "        states_value = [h, c]\n",
        "\n",
        "    return decoded_sentence"
      ]
    },
    {
      "cell_type": "code",
      "execution_count": 43,
      "metadata": {
        "id": "xnZyZa33eLOH"
      },
      "outputs": [],
      "source": [
        "test_gen= data_batch_generator(X_test,y_test,batch_size=1)\n"
      ]
    },
    {
      "cell_type": "code",
      "execution_count": 44,
      "metadata": {
        "id": "a4hQIREkIQnF"
      },
      "outputs": [],
      "source": [
        "Actual_test_sent = X_test.to_list()\n",
        "Actual_test_trans= y_test.to_list()"
      ]
    },
    {
      "cell_type": "code",
      "execution_count": 47,
      "metadata": {
        "colab": {
          "base_uri": "https://localhost:8080/"
        },
        "id": "nuVMzFTZDvrU",
        "outputId": "1ebc65cf-b672-4a49-a35d-a5ab77215b97"
      },
      "outputs": [
        {
          "output_type": "stream",
          "name": "stdout",
          "text": [
            "English Senteces: i did not call him by name\n",
            "Actual Marathi Sentence: sos मी त्याला नावाने हाक मारली नाही\n",
            "1/1 [==============================] - 2s 2s/step\n",
            "1/1 [==============================] - 1s 1s/step\n",
            "1/1 [==============================] - 0s 27ms/step\n",
            "1/1 [==============================] - 0s 21ms/step\n",
            "1/1 [==============================] - 0s 21ms/step\n",
            "1/1 [==============================] - 0s 24ms/step\n",
            "1/1 [==============================] - 0s 23ms/step\n",
            "1/1 [==============================] - 0s 22ms/step\n",
            "Predicted Marathi Translation:  मी त्यांना नावाने हाक मारली नाही\n"
          ]
        }
      ],
      "source": [
        "print(\"English Senteces:\", Actual_test_sent[0])\n",
        "print(\"Actual Marathi Sentence:\", Actual_test_trans[0][:-4])\n",
        "print(\"Predicted Marathi Translation:\", get_predicted_sentence(test_inputs[0])[:-4])\n"
      ]
    },
    {
      "cell_type": "code",
      "execution_count": 48,
      "metadata": {
        "colab": {
          "base_uri": "https://localhost:8080/"
        },
        "id": "L8-i8QpRmVBF",
        "outputId": "7f43285c-9ab4-4d72-81c5-092e59357226"
      },
      "outputs": [
        {
          "output_type": "stream",
          "name": "stdout",
          "text": [
            "English Senteces: i do not want to talk to him anymore\n",
            "Actual Marathi Sentence: sos मला आता त्याच्याशी बोलायचं नाही\n",
            "1/1 [==============================] - 0s 19ms/step\n",
            "1/1 [==============================] - 0s 25ms/step\n",
            "1/1 [==============================] - 0s 24ms/step\n",
            "1/1 [==============================] - 0s 23ms/step\n",
            "1/1 [==============================] - 0s 22ms/step\n",
            "1/1 [==============================] - 0s 23ms/step\n",
            "1/1 [==============================] - 0s 22ms/step\n",
            "Predicted Marathi Translation:  मला आता त्यांच्याशी बोलायचं नाही\n"
          ]
        }
      ],
      "source": [
        "print(\"English Senteces:\", Actual_test_sent[1])\n",
        "print(\"Actual Marathi Sentence:\", Actual_test_trans[1][:-4])\n",
        "print(\"Predicted Marathi Translation:\", get_predicted_sentence(test_inputs[1])[:-4])\n"
      ]
    },
    {
      "cell_type": "code",
      "execution_count": 49,
      "metadata": {
        "colab": {
          "base_uri": "https://localhost:8080/"
        },
        "id": "NPcnfZx2EvPb",
        "outputId": "b89a5bf2-84ca-4029-d1db-dbaccab6a32b"
      },
      "outputs": [
        {
          "output_type": "stream",
          "name": "stdout",
          "text": [
            "English Senteces: no one ran\n",
            "Actual Marathi Sentence: sos कोणीही धावलं नाही\n",
            "1/1 [==============================] - 0s 18ms/step\n",
            "1/1 [==============================] - 0s 21ms/step\n",
            "1/1 [==============================] - 0s 21ms/step\n",
            "1/1 [==============================] - 0s 23ms/step\n",
            "1/1 [==============================] - 0s 25ms/step\n",
            "Predicted Marathi Translation:  कोणीही ओरडलं नाही\n"
          ]
        }
      ],
      "source": [
        "print(\"English Senteces:\", Actual_test_sent[3])\n",
        "print(\"Actual Marathi Sentence:\", Actual_test_trans[3][:-4])\n",
        "print(\"Predicted Marathi Translation:\", get_predicted_sentence(test_inputs[3])[:-4])\n"
      ]
    },
    {
      "cell_type": "code",
      "execution_count": 50,
      "metadata": {
        "colab": {
          "base_uri": "https://localhost:8080/"
        },
        "id": "_TevE5yhmWQO",
        "outputId": "39437f8a-3238-484e-ff30-0a9b6b0b3f6a"
      },
      "outputs": [
        {
          "output_type": "stream",
          "name": "stdout",
          "text": [
            "English Senteces: why are you so happy all the time\n",
            "Actual Marathi Sentence: sos तू नेहमी इतका खूष का असतोस\n",
            "1/1 [==============================] - 0s 19ms/step\n",
            "1/1 [==============================] - 0s 21ms/step\n",
            "1/1 [==============================] - 0s 26ms/step\n",
            "1/1 [==============================] - 0s 23ms/step\n",
            "1/1 [==============================] - 0s 21ms/step\n",
            "1/1 [==============================] - 0s 22ms/step\n",
            "1/1 [==============================] - 0s 23ms/step\n",
            "1/1 [==============================] - 0s 20ms/step\n",
            "Predicted Marathi Translation:  तू नेहमी इतकी खूष का असतेस\n"
          ]
        }
      ],
      "source": [
        "print(\"English Senteces:\", Actual_test_sent[10])\n",
        "print(\"Actual Marathi Sentence:\", Actual_test_trans[10][:-4])\n",
        "print(\"Predicted Marathi Translation:\", get_predicted_sentence(test_inputs[10])[:-4])\n"
      ]
    }
  ],
  "metadata": {
    "colab": {
      "collapsed_sections": [
        "ce2e0fd8-9cb2-47c3-b7b8-7b4f94c9332f"
      ],
      "provenance": [],
      "gpuType": "T4"
    },
    "kernelspec": {
      "display_name": "Python 3",
      "name": "python3"
    },
    "language_info": {
      "codemirror_mode": {
        "name": "ipython",
        "version": 3
      },
      "file_extension": ".py",
      "mimetype": "text/x-python",
      "name": "python",
      "nbconvert_exporter": "python",
      "pygments_lexer": "ipython3",
      "version": "3.8.5"
    },
    "accelerator": "GPU"
  },
  "nbformat": 4,
  "nbformat_minor": 0
}